{
 "cells": [
  {
   "cell_type": "markdown",
   "id": "56f49bbe35f12a47",
   "metadata": {},
   "source": [
    "# Network design problem (NDP) with with graph neural networks (GNNs)\n",
    "\n",
    "## Introduction\n",
    "\n",
    "The aim of this project is to explore how graph neural networks (GNNs) can aid in solving Network Design Problems (NDPs). The NDP is a combinatorial optimization problem that involves finding the optimal (topological) design of a network (e.g., road network, telecommunication network) to minimize some objective function (e.g., total travel cost, total latency). In this case, we will focus on the road network design problem, where the goal is to find the optimal link capacities to minimize the total travel time on the network. In other words, given a certain budget for capacity expansion, the objective is to allocate the budget to a selection of roads optimally to minimize (in this case) the total travel time.\n",
    "\n",
    "NDPs are generally bi-level programming problems where the upper level represents the network design decisions (e.g., link capacities) and the lower level represents the user equilibrium traffic assignment problem. The user equilibrium traffic assignment problem is a non-linear optimization problem that assigns traffic flows to the network based on the link costs (e.g., travel time) and the user behavior (e.g., route choice). The NDP is challenging due to the non-linear interactions between the network design and the traffic assignment and different objective functions of the upper level and the lower level problems, which makes it difficult to solve using traditional optimization methods, particularly for large-scale networks.\n",
    "\n",
    "One common solution is to break the problem into the upper level and the lower level and solve them iteratively. We can use metaheuristic algorithms like Genetic Algorithms (GAs) for this approach. However, this approach can be computationally expensive too and may not scale well to large networks since we need repeated traffic assignment simulations for each design iteration.\n",
    "\n",
    "This is where GNNs come into play. GNNs can learn the underlying patterns and relationships in the network data and can be used to predict link flows based on the network structure and demand distribution. By training a GNN to predict link flows, we can use the predicted flows to find good solutions for the NDP without the need for repeated traffic assignment simulations. This can significantly reduce the computational cost and make the solution process more scalable. This is essentially using the GNN as a surrogate model for the traffic assignment model, which requires solving an optimization problem. The trained GNN can predict link flows for different network designs, and we can use these predicted flows to evaluate the network performance and optimize the link capacities using metaheuristics like GAs. But when we use GNNs for the NDP, we need to be careful about the accuracy of the predictions since the quality of the solutions depends on the accuracy of the predicted link flows.\n",
    "\n",
    "During the lecture on Friday, we will cover the fundamentals of NDPs and GNNs and how they can be combined to solve the NDP efficiently, and this notebook should give you a head start by demonstrating a simple example. But for in-dept information, you can consult the following article (for theory), github repository (for code), and figshare repository (for datasets):\n",
    "\n",
    "\n",
    "- Article: [A hybrid deep-learning-metaheuristic framework for bi-level network design problems](https://doi.org/10.1016/j.eswa.2023.122814)\n",
    "- Code: [GitHub Repository: HDLMF_GIN-GA](https://github.com/bahmanmdd/HDLMF_GIN-GA)\n",
    "- Dataset: [Dataset repository](https://figshare.com/articles/dataset/_b_Equilibrium-Traffic-Networks_b_/27889251/3)\n",
    "\n",
    "\n",
    "The purpose of this notebook is to demonstrate how to train a GNN to predict link flows based on network structure and demand distribution, which means the GNN inferences will replace solving the lower level optimization problem. We will use the Sioux Falls network dataset, which is a small benchmark network with 24 nodes and 76 edges. The dataset contains attributed graphs where the node attributes represent the demand distribution, and the edge attributes represent the link properties. We will train a GNN to predict link flows for different demand profiles. Note that the edge labels (link flows) are obtained by solving the traffic assignment problem (which is a non-linear constraint optimization problem) corresponding to the problem instance with each demand profile and network characteristics. We generate multiple instances of the traffic assignment problem by perturbing demand and link properties and solve each one with a specialized algorithm to obtain the ground truth labels. The goal is to train the GNN to predict these link flows accurately and to be a surrogate model for the traffic assignment model, which can be computationally expensive for large networks (note that this is only the lower level problem of the NDP)."
   ]
  },
  {
   "cell_type": "markdown",
   "id": "e85f1fba3393b801",
   "metadata": {},
   "source": [
    "## Summary of the training process\n",
    "\n",
    "In the following blocks, we have wrapped everything in functions and classes to make it easier to reuse and test. The code is organized as follows:\n",
    "1. Dataset Loading: This function loads the dataset from a pickle file.\n",
    "2. Graph Neural Network (GNN) Model: This class defines a GNN for edge regression using the GCNConv layers from PyTorch Geometric.\n",
    "3. Training Loop: This function trains the GNN model using the provided training and validation DataLoaders.\n",
    "4. Evaluation Function: This function evaluates the GNN model on a given dataset (validation or test).\n",
    "5. Visualization Function: This function plots the MSE loss and MAPE for both training and validation sets over epochs.\n",
    "\n",
    "First let's import the necessary libraries and modules."
   ]
  },
  {
   "cell_type": "code",
   "id": "2b766a48",
   "metadata": {
    "ExecuteTime": {
     "end_time": "2025-01-13T09:15:13.426395Z",
     "start_time": "2025-01-13T09:15:13.423787Z"
    }
   },
   "source": [
    "import torch\n",
    "import torch.nn as nn\n",
    "import torch.optim as optim\n",
    "from torch_geometric.data import Data\n",
    "from torch_geometric.loader import DataLoader\n",
    "from torch_geometric.nn import GCNConv\n",
    "import pickle\n",
    "import numpy as np\n",
    "import matplotlib.pyplot as plt"
   ],
   "outputs": [],
   "execution_count": 10
  },
  {
   "cell_type": "markdown",
   "id": "7337da9d",
   "metadata": {},
   "source": [
    "\n",
    "### Dataset Loading\n",
    "This function loads the dataset from a pickle file. The dataset is expected to be in the format:\n",
    "(train_data, test_data, val_data), where each dataset is a list of tuples containing an attributed graph and a list of edge labels (link flows). Each graph represents a network with edge attributes representing link properties and node attributes representing demand. the graph objects are PyTorch Geometric (PyG) Data objects. PyG expects graph data in the format:\n",
    "- `x`: Node features.\n",
    "- `edge_index`: Edge connections as a tensor.\n",
    "- `edge_attr`: Edge features.\n",
    "- `y`: Edge labels for regression.\n",
    "\n"
   ]
  },
  {
   "cell_type": "code",
   "id": "ab6b6f5c",
   "metadata": {
    "ExecuteTime": {
     "end_time": "2025-01-13T09:15:13.439314Z",
     "start_time": "2025-01-13T09:15:13.436827Z"
    }
   },
   "source": [
    "def load_dataset(file_path='data/SiouxFalls_1k_pyg.pkl'):\n",
    "    with open(file_path, \"rb\") as file:\n",
    "        data = pickle.load(file)\n",
    "\n",
    "    # Unpack the dataset into train, test, and validation sets\n",
    "    train_data, test_data, val_data = data\n",
    "    return train_data, test_data, val_data"
   ],
   "outputs": [],
   "execution_count": 11
  },
  {
   "cell_type": "code",
   "id": "79ef0769108235a5",
   "metadata": {
    "ExecuteTime": {
     "end_time": "2025-01-13T09:15:13.541572Z",
     "start_time": "2025-01-13T09:15:13.444353Z"
    }
   },
   "source": [
    "# Load datasets\n",
    "train_data, test_data, val_data = load_dataset()\n",
    "\n",
    "# Select the first sample from the training dataset to check some properties\n",
    "sample_data = train_data[0]\n",
    "input_features = sample_data.num_node_features\n",
    "edge_features_size = sample_data.edge_attr.shape[1]\n",
    "\n",
    "# Check node feature shape\n",
    "print(\"Node feature shape (x):\", sample_data.x.shape)\n",
    "\n",
    "# Check edge feature shape\n",
    "print(\"Edge feature shape (edge_attr):\", sample_data.edge_attr.shape)\n",
    "\n",
    "# Check the number of nodes and the highest node index in edge_index\n",
    "print(\"Number of nodes:\", sample_data.num_nodes)\n",
    "print(\"Max node index in edge_index:\", sample_data.edge_index.max().item())\n",
    "\n",
    "# Check for extra rows in node features\n",
    "if sample_data.x.shape[0] != sample_data.num_nodes:\n",
    "    print(\"Warning: Node features contain extra rows!\")\n",
    "\n",
    "# Check if any node is disconnected\n",
    "disconnected_nodes = set(range(sample_data.num_nodes)) - set(sample_data.edge_index.flatten().tolist())\n",
    "if disconnected_nodes:\n",
    "    print(\"Warning: Disconnected nodes detected:\", disconnected_nodes)\n",
    "else:\n",
    "    print(\"All nodes are connected.\")\n",
    "\n",
    "# Check for self-loops\n",
    "self_loops = sample_data.edge_index[0] == sample_data.edge_index[1]\n",
    "if self_loops.any():\n",
    "    print(f\"Warning: Self-loops detected in {self_loops.sum().item()} edges.\")\n",
    "else:\n",
    "    print(\"No self-loops detected.\")\n",
    "\n",
    "# Final check for edge label shape\n",
    "print(\"Edge label shape (y):\", sample_data.y.shape)"
   ],
   "outputs": [
    {
     "name": "stdout",
     "output_type": "stream",
     "text": [
      "Node feature shape (x): torch.Size([24, 24])\n",
      "Edge feature shape (edge_attr): torch.Size([76, 2])\n",
      "Number of nodes: 24\n",
      "Max node index in edge_index: 23\n",
      "All nodes are connected.\n",
      "No self-loops detected.\n",
      "Edge label shape (y): torch.Size([76])\n"
     ]
    }
   ],
   "execution_count": 12
  },
  {
   "cell_type": "code",
   "id": "45274b3d6c10dee7",
   "metadata": {
    "ExecuteTime": {
     "end_time": "2025-01-13T09:15:13.549569Z",
     "start_time": "2025-01-13T09:15:13.546841Z"
    }
   },
   "source": [
    "# Check if CUDA is available and set the device accordingly\n",
    "device = torch.device('cuda' if torch.cuda.is_available() else 'cpu')\n",
    "\n",
    "# Create DataLoaders\n",
    "train_loader = DataLoader(train_data, batch_size=32, shuffle=True)\n",
    "val_loader = DataLoader(val_data, batch_size=32, shuffle=False)\n",
    "test_loader = DataLoader(test_data, batch_size=32, shuffle=False)"
   ],
   "outputs": [],
   "execution_count": 13
  },
  {
   "cell_type": "markdown",
   "id": "54fd70d0",
   "metadata": {},
   "source": [
    "\n",
    "### Graph Neural Network (GNN) Model\n",
    "This class defines a GNN for edge regression using the GCNConv layers from PyTorch Geometric.\n",
    "The model includes:\n",
    "- Two GCNConv layers for node feature propagation.\n",
    "- An MLP for predicting edge-level scores using node and edge features.\n",
    "\n"
   ]
  },
  {
   "cell_type": "code",
   "id": "45be7b9e",
   "metadata": {
    "ExecuteTime": {
     "end_time": "2025-01-13T09:15:13.565182Z",
     "start_time": "2025-01-13T09:15:13.562161Z"
    }
   },
   "source": [
    "class EdgeRegressionGNN(nn.Module):\n",
    "    def __init__(self, in_channels, hidden_channels, out_channels, edge_features_size):\n",
    "        super(EdgeRegressionGNN, self).__init__()\n",
    "\n",
    "        # Define two GCNConv layers for node embeddings\n",
    "        self.conv1 = GCNConv(in_channels, hidden_channels)\n",
    "        self.conv2 = GCNConv(hidden_channels, hidden_channels)\n",
    "\n",
    "        # Define a feed-forward neural network (MLP) for edge prediction\n",
    "        self.edge_predictor = nn.Sequential(\n",
    "            nn.Linear(hidden_channels * 2 + edge_features_size, 32),\n",
    "            nn.ReLU(),\n",
    "            nn.Linear(32, out_channels)\n",
    "        )\n",
    "\n",
    "    def forward(self, data):\n",
    "        # Extract node features, edge connections, and edge attributes\n",
    "        x, edge_index, edge_attr = data.x, data.edge_index, data.edge_attr\n",
    "\n",
    "        # Pass node features through the GCN layers with ReLU activations\n",
    "        h = torch.relu(self.conv1(x, edge_index))\n",
    "        h = torch.relu(self.conv2(h, edge_index))\n",
    "\n",
    "        # Get source and target node embeddings for each edge\n",
    "        row, col = edge_index\n",
    "        edge_embeds = torch.cat([h[row], h[col], edge_attr], dim=1)  # Concatenate features\n",
    "\n",
    "        # Predict edge scores using the MLP\n",
    "        return self.edge_predictor(edge_embeds).squeeze()"
   ],
   "outputs": [],
   "execution_count": 14
  },
  {
   "cell_type": "code",
   "id": "f439a6ae009a75d1",
   "metadata": {
    "ExecuteTime": {
     "end_time": "2025-01-13T09:15:13.578328Z",
     "start_time": "2025-01-13T09:15:13.575281Z"
    }
   },
   "source": [
    "# Initialize the model, loss function, and optimizer\n",
    "model = EdgeRegressionGNN(in_channels=input_features, hidden_channels=64, out_channels=1, edge_features_size=edge_features_size).to(device)\n",
    "loss_function = nn.MSELoss()\n",
    "optimizer = optim.Adam(model.parameters(), lr=0.01)"
   ],
   "outputs": [],
   "execution_count": 15
  },
  {
   "cell_type": "markdown",
   "id": "78730da8",
   "metadata": {},
   "source": [
    "\n",
    "### Training Loop\n",
    "This function trains the GNN model using the provided training and validation DataLoaders.\n",
    "The function calculates both the MSE loss and MAPE (Mean Absolute Percentage Error) at each epoch.\n",
    "\n"
   ]
  },
  {
   "cell_type": "code",
   "id": "75e22f43",
   "metadata": {
    "ExecuteTime": {
     "end_time": "2025-01-13T09:15:13.584274Z",
     "start_time": "2025-01-13T09:15:13.580879Z"
    }
   },
   "source": [
    "def train_model(model, train_loader, val_loader, loss_fn, optimizer, epochs=50):\n",
    "    # Initialize lists to store loss and MAPE for each epoch\n",
    "    train_losses, val_losses, train_mape, val_mape = [], [], [], []\n",
    "\n",
    "    for epoch in range(epochs):\n",
    "        # Set the model to training mode\n",
    "        model.train()\n",
    "        epoch_loss, epoch_mape = 0, 0\n",
    "\n",
    "        for data in train_loader:\n",
    "            # Move data to the appropriate device (CPU/GPU)\n",
    "            data = data.to(device)\n",
    "\n",
    "            # Zero the gradients\n",
    "            optimizer.zero_grad()\n",
    "\n",
    "            # Perform forward pass and calculate loss\n",
    "            predictions = model(data)\n",
    "            loss = loss_fn(predictions, data.y)\n",
    "\n",
    "            # Calculate MAPE\n",
    "            mape = torch.mean(torch.abs((predictions - data.y) / data.y)) * 100\n",
    "\n",
    "            # Backpropagation and optimizer step\n",
    "            loss.backward()\n",
    "            optimizer.step()\n",
    "\n",
    "            # Accumulate epoch loss and MAPE\n",
    "            epoch_loss += loss.item()\n",
    "            epoch_mape += mape.item()\n",
    "\n",
    "        # Calculate average loss and MAPE for the epoch\n",
    "        train_losses.append(epoch_loss / len(train_loader))\n",
    "        train_mape.append(epoch_mape / len(train_loader))\n",
    "\n",
    "        # Evaluate on the validation set\n",
    "        val_loss, val_mape_epoch = evaluate_model(model, val_loader, loss_fn)\n",
    "        val_losses.append(val_loss)\n",
    "        val_mape.append(val_mape_epoch)\n",
    "\n",
    "        # Print epoch metrics\n",
    "        print(f\"Epoch {epoch + 1}/{epochs} - Train Loss: {train_losses[-1]:.4f}, Train MAPE: {train_mape[-1]:.2f}%, \"\n",
    "              f\"Val Loss: {val_losses[-1]:.4f}, Val MAPE: {val_mape[-1]:.2f}%\")\n",
    "\n",
    "    return train_losses, val_losses, train_mape, val_mape"
   ],
   "outputs": [],
   "execution_count": 16
  },
  {
   "cell_type": "markdown",
   "id": "8d1b04b4",
   "metadata": {},
   "source": [
    "\n",
    "### Evaluation Function\n",
    "This function evaluates the GNN model on a given dataset (validation or test).\n",
    "It calculates both the MSE loss and the MAPE (Mean Absolute Percentage Error).\n",
    "\n"
   ]
  },
  {
   "cell_type": "code",
   "id": "c4470150",
   "metadata": {
    "ExecuteTime": {
     "end_time": "2025-01-13T09:15:13.591738Z",
     "start_time": "2025-01-13T09:15:13.589420Z"
    }
   },
   "source": [
    "def evaluate_model(model, dataloader, loss_fn):\n",
    "    # Set the model to evaluation mode\n",
    "    model.eval()\n",
    "    total_loss, total_mape = 0, 0\n",
    "\n",
    "    with torch.no_grad():  # Disable gradient computation for evaluation\n",
    "        for data in dataloader:\n",
    "            # Move data to the appropriate device\n",
    "            data = data.to(device)\n",
    "\n",
    "            # Perform forward pass and calculate loss\n",
    "            predictions = model(data)\n",
    "            loss = loss_fn(predictions, data.y)\n",
    "\n",
    "            # Calculate MAPE\n",
    "            mape = torch.mean(torch.abs((predictions - data.y) / data.y)) * 100\n",
    "\n",
    "            # Accumulate total loss and MAPE\n",
    "            total_loss += loss.item()\n",
    "            total_mape += mape.item()\n",
    "\n",
    "    # Return average loss and MAPE\n",
    "    return total_loss / len(dataloader), total_mape / len(dataloader)\n"
   ],
   "outputs": [],
   "execution_count": 17
  },
  {
   "cell_type": "code",
   "id": "a03865c7336f8d88",
   "metadata": {
    "ExecuteTime": {
     "end_time": "2025-01-13T09:15:24.760205Z",
     "start_time": "2025-01-13T09:15:13.599257Z"
    }
   },
   "source": [
    "# Train the model\n",
    "print(\"[I] Starting training...\")\n",
    "train_losses, val_losses, train_mape, val_mape = train_model(model, train_loader, val_loader, loss_function, optimizer, epochs=100)\n",
    "\n",
    "# Evaluate on the test set\n",
    "print(\"[I] Evaluating on test set...\")\n",
    "test_loss, test_mape = evaluate_model(model, test_loader, loss_function)\n",
    "print(f\"Test Loss: {test_loss:.4f}, Test MAPE: {test_mape:.2f}%\")"
   ],
   "outputs": [
    {
     "name": "stdout",
     "output_type": "stream",
     "text": [
      "[I] Starting training...\n",
      "Epoch 1/100 - Train Loss: 49134505.9310, Train MAPE: 50.49%, Val Loss: 23426711.0000, Val MAPE: 32.18%\n",
      "Epoch 2/100 - Train Loss: 18522207.7931, Train MAPE: 35.33%, Val Loss: 17669908.0000, Val MAPE: 32.81%\n",
      "Epoch 3/100 - Train Loss: 16215289.5172, Train MAPE: 33.14%, Val Loss: 15488735.0000, Val MAPE: 32.00%\n",
      "Epoch 4/100 - Train Loss: 13489344.7931, Train MAPE: 29.98%, Val Loss: 12070095.0000, Val MAPE: 27.91%\n",
      "Epoch 5/100 - Train Loss: 10582425.9310, Train MAPE: 25.94%, Val Loss: 9873798.0000, Val MAPE: 25.39%\n",
      "Epoch 6/100 - Train Loss: 9295850.3103, Train MAPE: 23.81%, Val Loss: 9201375.5000, Val MAPE: 22.40%\n",
      "Epoch 7/100 - Train Loss: 8976289.7931, Train MAPE: 23.09%, Val Loss: 9050450.5000, Val MAPE: 23.67%\n",
      "Epoch 8/100 - Train Loss: 8779467.3621, Train MAPE: 22.71%, Val Loss: 8784369.5000, Val MAPE: 22.30%\n",
      "Epoch 9/100 - Train Loss: 8689177.9483, Train MAPE: 22.48%, Val Loss: 8747207.5000, Val MAPE: 22.68%\n",
      "Epoch 10/100 - Train Loss: 8653249.5172, Train MAPE: 22.47%, Val Loss: 8706291.0000, Val MAPE: 21.89%\n",
      "Epoch 11/100 - Train Loss: 8667259.2414, Train MAPE: 22.50%, Val Loss: 8722524.5000, Val MAPE: 21.69%\n",
      "Epoch 12/100 - Train Loss: 8700218.4828, Train MAPE: 22.55%, Val Loss: 8786926.0000, Val MAPE: 21.67%\n",
      "Epoch 13/100 - Train Loss: 8598940.9138, Train MAPE: 22.35%, Val Loss: 8572168.5000, Val MAPE: 22.01%\n",
      "Epoch 14/100 - Train Loss: 8543363.4310, Train MAPE: 22.31%, Val Loss: 8557151.5000, Val MAPE: 22.28%\n",
      "Epoch 15/100 - Train Loss: 8502256.1897, Train MAPE: 22.22%, Val Loss: 8484304.5000, Val MAPE: 21.85%\n",
      "Epoch 16/100 - Train Loss: 8446001.9655, Train MAPE: 22.23%, Val Loss: 8433096.0000, Val MAPE: 22.07%\n",
      "Epoch 17/100 - Train Loss: 8426988.5517, Train MAPE: 22.22%, Val Loss: 8432424.0000, Val MAPE: 21.43%\n",
      "Epoch 18/100 - Train Loss: 8394889.0000, Train MAPE: 22.12%, Val Loss: 8424770.2500, Val MAPE: 21.23%\n",
      "Epoch 19/100 - Train Loss: 8263834.6207, Train MAPE: 21.89%, Val Loss: 8368935.7500, Val MAPE: 22.70%\n",
      "Epoch 20/100 - Train Loss: 8212804.4483, Train MAPE: 21.95%, Val Loss: 8377842.7500, Val MAPE: 20.94%\n",
      "Epoch 21/100 - Train Loss: 8140040.6552, Train MAPE: 21.86%, Val Loss: 8512021.5000, Val MAPE: 20.98%\n",
      "Epoch 22/100 - Train Loss: 8054763.4828, Train MAPE: 21.66%, Val Loss: 8013377.7500, Val MAPE: 21.18%\n",
      "Epoch 23/100 - Train Loss: 7965490.5000, Train MAPE: 21.54%, Val Loss: 7931914.0000, Val MAPE: 21.53%\n",
      "Epoch 24/100 - Train Loss: 7893545.3621, Train MAPE: 21.44%, Val Loss: 7926642.2500, Val MAPE: 21.22%\n",
      "Epoch 25/100 - Train Loss: 7923827.2931, Train MAPE: 21.44%, Val Loss: 7737214.7500, Val MAPE: 20.76%\n",
      "Epoch 26/100 - Train Loss: 7839532.3103, Train MAPE: 21.41%, Val Loss: 8487977.7500, Val MAPE: 21.13%\n",
      "Epoch 27/100 - Train Loss: 7851718.4483, Train MAPE: 21.34%, Val Loss: 7812405.0000, Val MAPE: 20.24%\n",
      "Epoch 28/100 - Train Loss: 7768582.7759, Train MAPE: 21.23%, Val Loss: 7845866.5000, Val MAPE: 20.20%\n",
      "Epoch 29/100 - Train Loss: 7678489.4828, Train MAPE: 21.12%, Val Loss: 7547139.5000, Val MAPE: 20.41%\n",
      "Epoch 30/100 - Train Loss: 7588723.6724, Train MAPE: 20.88%, Val Loss: 8063921.7500, Val MAPE: 20.15%\n",
      "Epoch 31/100 - Train Loss: 7714647.5862, Train MAPE: 21.13%, Val Loss: 7870220.0000, Val MAPE: 20.42%\n",
      "Epoch 32/100 - Train Loss: 7594826.9310, Train MAPE: 21.09%, Val Loss: 7839681.5000, Val MAPE: 20.56%\n",
      "Epoch 33/100 - Train Loss: 7567501.7241, Train MAPE: 20.91%, Val Loss: 7838423.2500, Val MAPE: 20.06%\n",
      "Epoch 34/100 - Train Loss: 7485140.0345, Train MAPE: 20.75%, Val Loss: 8382651.0000, Val MAPE: 23.18%\n",
      "Epoch 35/100 - Train Loss: 7689424.1897, Train MAPE: 21.11%, Val Loss: 7528645.7500, Val MAPE: 20.78%\n",
      "Epoch 36/100 - Train Loss: 7467465.1379, Train MAPE: 20.84%, Val Loss: 7810046.0000, Val MAPE: 20.22%\n",
      "Epoch 37/100 - Train Loss: 7518584.0862, Train MAPE: 20.88%, Val Loss: 7474607.2500, Val MAPE: 20.23%\n",
      "Epoch 38/100 - Train Loss: 7361750.2069, Train MAPE: 20.63%, Val Loss: 7396549.7500, Val MAPE: 19.96%\n",
      "Epoch 39/100 - Train Loss: 7244174.0690, Train MAPE: 20.47%, Val Loss: 7441694.5000, Val MAPE: 19.86%\n",
      "Epoch 40/100 - Train Loss: 7282039.6379, Train MAPE: 20.49%, Val Loss: 7233904.0000, Val MAPE: 20.20%\n",
      "Epoch 41/100 - Train Loss: 7272356.9828, Train MAPE: 20.55%, Val Loss: 7548635.7500, Val MAPE: 21.68%\n",
      "Epoch 42/100 - Train Loss: 7404921.5862, Train MAPE: 20.82%, Val Loss: 7217455.0000, Val MAPE: 19.95%\n",
      "Epoch 43/100 - Train Loss: 7150282.4655, Train MAPE: 20.33%, Val Loss: 7497083.7500, Val MAPE: 20.08%\n",
      "Epoch 44/100 - Train Loss: 7253751.9310, Train MAPE: 20.42%, Val Loss: 7411864.2500, Val MAPE: 20.65%\n",
      "Epoch 45/100 - Train Loss: 7202435.5517, Train MAPE: 20.40%, Val Loss: 7104887.2500, Val MAPE: 20.18%\n",
      "Epoch 46/100 - Train Loss: 7166473.3103, Train MAPE: 20.45%, Val Loss: 7130100.5000, Val MAPE: 20.13%\n",
      "Epoch 47/100 - Train Loss: 7087882.0862, Train MAPE: 20.17%, Val Loss: 7119981.2500, Val MAPE: 20.35%\n",
      "Epoch 48/100 - Train Loss: 7081809.3103, Train MAPE: 20.30%, Val Loss: 7046935.5000, Val MAPE: 19.87%\n",
      "Epoch 49/100 - Train Loss: 7027780.4310, Train MAPE: 20.22%, Val Loss: 7278741.5000, Val MAPE: 20.34%\n",
      "Epoch 50/100 - Train Loss: 7129747.9655, Train MAPE: 20.28%, Val Loss: 7029716.0000, Val MAPE: 20.40%\n",
      "Epoch 51/100 - Train Loss: 7077161.2759, Train MAPE: 20.34%, Val Loss: 7319616.7500, Val MAPE: 20.91%\n",
      "Epoch 52/100 - Train Loss: 7130381.2931, Train MAPE: 20.32%, Val Loss: 7237927.5000, Val MAPE: 19.70%\n",
      "Epoch 53/100 - Train Loss: 6943661.2931, Train MAPE: 20.06%, Val Loss: 7229283.2500, Val MAPE: 19.69%\n",
      "Epoch 54/100 - Train Loss: 7013897.9310, Train MAPE: 20.21%, Val Loss: 6996711.7500, Val MAPE: 20.34%\n",
      "Epoch 55/100 - Train Loss: 7034554.5000, Train MAPE: 20.25%, Val Loss: 7302602.2500, Val MAPE: 20.69%\n",
      "Epoch 56/100 - Train Loss: 6980087.9828, Train MAPE: 20.15%, Val Loss: 7003000.2500, Val MAPE: 19.84%\n",
      "Epoch 57/100 - Train Loss: 7074246.2586, Train MAPE: 20.35%, Val Loss: 7535720.7500, Val MAPE: 19.74%\n",
      "Epoch 58/100 - Train Loss: 6966063.3793, Train MAPE: 20.13%, Val Loss: 6930589.7500, Val MAPE: 19.80%\n",
      "Epoch 59/100 - Train Loss: 6898500.7759, Train MAPE: 20.00%, Val Loss: 7039270.0000, Val MAPE: 19.45%\n",
      "Epoch 60/100 - Train Loss: 6916721.9310, Train MAPE: 20.13%, Val Loss: 6957076.2500, Val MAPE: 20.19%\n",
      "Epoch 61/100 - Train Loss: 6886949.1379, Train MAPE: 20.08%, Val Loss: 7061488.5000, Val MAPE: 19.65%\n",
      "Epoch 62/100 - Train Loss: 6884951.6034, Train MAPE: 20.01%, Val Loss: 7122142.0000, Val MAPE: 20.40%\n",
      "Epoch 63/100 - Train Loss: 6968506.0862, Train MAPE: 20.08%, Val Loss: 6984239.2500, Val MAPE: 20.09%\n",
      "Epoch 64/100 - Train Loss: 6850609.9138, Train MAPE: 20.01%, Val Loss: 6932441.7500, Val MAPE: 19.67%\n",
      "Epoch 65/100 - Train Loss: 6863865.3103, Train MAPE: 20.02%, Val Loss: 6880933.0000, Val MAPE: 19.40%\n",
      "Epoch 66/100 - Train Loss: 6759741.8621, Train MAPE: 19.85%, Val Loss: 6774189.5000, Val MAPE: 19.62%\n",
      "Epoch 67/100 - Train Loss: 6813883.7414, Train MAPE: 19.90%, Val Loss: 6873369.5000, Val MAPE: 20.15%\n",
      "Epoch 68/100 - Train Loss: 7073872.9310, Train MAPE: 20.45%, Val Loss: 7007118.7500, Val MAPE: 19.77%\n",
      "Epoch 69/100 - Train Loss: 6893419.3103, Train MAPE: 20.09%, Val Loss: 6861790.5000, Val MAPE: 19.36%\n",
      "Epoch 70/100 - Train Loss: 6680480.3793, Train MAPE: 19.74%, Val Loss: 6802248.2500, Val MAPE: 19.34%\n",
      "Epoch 71/100 - Train Loss: 6787899.3448, Train MAPE: 19.88%, Val Loss: 6952197.2500, Val MAPE: 19.13%\n",
      "Epoch 72/100 - Train Loss: 6737861.8103, Train MAPE: 19.85%, Val Loss: 7019411.7500, Val MAPE: 19.24%\n",
      "Epoch 73/100 - Train Loss: 6748786.7759, Train MAPE: 19.92%, Val Loss: 6745552.0000, Val MAPE: 19.53%\n",
      "Epoch 74/100 - Train Loss: 6744943.1379, Train MAPE: 19.90%, Val Loss: 7140580.5000, Val MAPE: 19.38%\n",
      "Epoch 75/100 - Train Loss: 6731609.0690, Train MAPE: 19.85%, Val Loss: 6853258.0000, Val MAPE: 19.09%\n",
      "Epoch 76/100 - Train Loss: 6768848.1724, Train MAPE: 19.93%, Val Loss: 6786952.2500, Val MAPE: 19.48%\n",
      "Epoch 77/100 - Train Loss: 6747612.8276, Train MAPE: 19.80%, Val Loss: 7221647.7500, Val MAPE: 19.15%\n",
      "Epoch 78/100 - Train Loss: 6739772.6034, Train MAPE: 19.88%, Val Loss: 6970921.0000, Val MAPE: 18.96%\n",
      "Epoch 79/100 - Train Loss: 6762406.2069, Train MAPE: 19.91%, Val Loss: 6835528.2500, Val MAPE: 18.96%\n",
      "Epoch 80/100 - Train Loss: 6655938.2069, Train MAPE: 19.69%, Val Loss: 6883495.7500, Val MAPE: 19.07%\n",
      "Epoch 81/100 - Train Loss: 6700563.0172, Train MAPE: 19.77%, Val Loss: 6798398.2500, Val MAPE: 19.81%\n",
      "Epoch 82/100 - Train Loss: 6704167.4483, Train MAPE: 19.69%, Val Loss: 6702515.5000, Val MAPE: 19.41%\n",
      "Epoch 83/100 - Train Loss: 6567280.3793, Train MAPE: 19.57%, Val Loss: 6734818.0000, Val MAPE: 19.31%\n",
      "Epoch 84/100 - Train Loss: 6622608.1897, Train MAPE: 19.66%, Val Loss: 6680167.7500, Val MAPE: 19.91%\n",
      "Epoch 85/100 - Train Loss: 6588462.5862, Train MAPE: 19.59%, Val Loss: 6810811.0000, Val MAPE: 20.51%\n",
      "Epoch 86/100 - Train Loss: 6599360.8966, Train MAPE: 19.65%, Val Loss: 6646674.0000, Val MAPE: 19.38%\n",
      "Epoch 87/100 - Train Loss: 6681915.6034, Train MAPE: 19.73%, Val Loss: 6811561.7500, Val MAPE: 20.44%\n",
      "Epoch 88/100 - Train Loss: 6760881.8448, Train MAPE: 19.88%, Val Loss: 6994718.5000, Val MAPE: 20.95%\n",
      "Epoch 89/100 - Train Loss: 6696722.4483, Train MAPE: 19.77%, Val Loss: 6956055.7500, Val MAPE: 19.22%\n",
      "Epoch 90/100 - Train Loss: 6692659.8621, Train MAPE: 19.81%, Val Loss: 7640206.7500, Val MAPE: 20.35%\n",
      "Epoch 91/100 - Train Loss: 6672550.1897, Train MAPE: 19.72%, Val Loss: 6985294.0000, Val MAPE: 19.00%\n",
      "Epoch 92/100 - Train Loss: 6596653.0862, Train MAPE: 19.59%, Val Loss: 6891789.0000, Val MAPE: 19.18%\n",
      "Epoch 93/100 - Train Loss: 6639115.5517, Train MAPE: 19.60%, Val Loss: 6661835.0000, Val MAPE: 20.17%\n",
      "Epoch 94/100 - Train Loss: 6635985.3276, Train MAPE: 19.68%, Val Loss: 6679203.0000, Val MAPE: 19.57%\n",
      "Epoch 95/100 - Train Loss: 6684975.5172, Train MAPE: 19.72%, Val Loss: 6627314.2500, Val MAPE: 19.76%\n",
      "Epoch 96/100 - Train Loss: 6577097.6034, Train MAPE: 19.60%, Val Loss: 6652469.0000, Val MAPE: 18.92%\n",
      "Epoch 97/100 - Train Loss: 6662101.9483, Train MAPE: 19.80%, Val Loss: 8022160.5000, Val MAPE: 19.54%\n",
      "Epoch 98/100 - Train Loss: 6839959.1034, Train MAPE: 19.95%, Val Loss: 6734393.5000, Val MAPE: 19.05%\n",
      "Epoch 99/100 - Train Loss: 6620286.1379, Train MAPE: 19.58%, Val Loss: 6566060.0000, Val MAPE: 19.74%\n",
      "Epoch 100/100 - Train Loss: 6540106.5345, Train MAPE: 19.50%, Val Loss: 6764998.5000, Val MAPE: 18.93%\n",
      "[I] Evaluating on test set...\n",
      "Test Loss: 6445192.7500, Test MAPE: 19.12%\n"
     ]
    }
   ],
   "execution_count": 18
  },
  {
   "cell_type": "markdown",
   "id": "7024be25",
   "metadata": {},
   "source": [
    "\n",
    "### Visualization Function\n",
    "This function plots the MSE loss and MAPE for both training and validation sets over epochs.\n",
    "The plot includes:\n",
    "- MSE loss over epochs.\n",
    "- MAPE over epochs.\n",
    "\n"
   ]
  },
  {
   "cell_type": "code",
   "id": "f46872f7",
   "metadata": {
    "ExecuteTime": {
     "end_time": "2025-01-13T09:15:24.768875Z",
     "start_time": "2025-01-13T09:15:24.766180Z"
    }
   },
   "source": [
    "def plot_metrics(train_losses, val_losses, train_mape, val_mape):\n",
    "    plt.figure(figsize=(16, 9))\n",
    "\n",
    "    # Plot Loss\n",
    "    plt.subplot(1, 2, 1)\n",
    "    plt.plot(train_losses, label='Train Loss', color='b')\n",
    "    plt.plot(val_losses, label='Val Loss', color='orange')\n",
    "    plt.xlabel('Epochs')\n",
    "    plt.ylabel('MSE Loss')\n",
    "    plt.title('MSE Loss over Epochs')\n",
    "    plt.legend()\n",
    "\n",
    "    # Plot MAPE\n",
    "    plt.subplot(1, 2, 2)\n",
    "    plt.plot(train_mape, label='Train MAPE', color='g')\n",
    "    plt.plot(val_mape, label='Val MAPE', color='red')\n",
    "    plt.xlabel('Epochs')\n",
    "    plt.ylabel('MAPE (%)')\n",
    "    plt.title('MAPE over Epochs')\n",
    "    plt.legend()\n",
    "\n",
    "    # Adjust layout and show plot\n",
    "    plt.tight_layout()\n",
    "    plt.show()"
   ],
   "outputs": [],
   "execution_count": 19
  },
  {
   "cell_type": "code",
   "id": "748dfbc58525975b",
   "metadata": {
    "ExecuteTime": {
     "end_time": "2025-01-13T09:15:24.925271Z",
     "start_time": "2025-01-13T09:15:24.774472Z"
    }
   },
   "source": [
    "# Plot the metrics\n",
    "plot_metrics(train_losses, val_losses, train_mape, val_mape)"
   ],
   "outputs": [
    {
     "data": {
      "text/plain": [
       "<Figure size 1600x900 with 2 Axes>"
      ],
      "image/png": "[encoded data removed]"
     },
     "metadata": {},
     "output_type": "display_data"
    }
   ],
   "execution_count": 20
  },
  {
   "cell_type": "markdown",
   "id": "6da0e91b6e8a8dda",
   "metadata": {},
   "source": [
    "## Exercise 1: Model Improvement\n",
    "Now it is your turn to try to improve the model. You can also try larger datasets (available from the figshare repository mentioned earlier). Remember, for this specific application, we need accuracies above 95% and ideally higher. Here are some ideas to get you started:\n",
    "- Different GNN architectures.\n",
    "- Hyperparameter tuning.\n",
    "- Different loss functions.\n",
    "- Different optimizers, epochs and learning rates.\n",
    "- feature augmentation (fusion of existing features, centrality measures, etc.)\n",
    "- Physics informed neural networks (flow conservation constraints, etc.)\n",
    "- Penalizing solutions with asymmetric flow accuracies (biases in specific parts of the network can cause serious issues). Can you reflect on why this is important?\n",
    "\n",
    "Good luck!"
   ]
  },
  {
   "cell_type": "markdown",
   "id": "b3a2aaa912c35a9f",
   "metadata": {},
   "source": [
    "## Exercise 2: Inference with the trained model and tackling the NDP\n",
    "\n",
    "For this exercise you need to read the paper and check the github repository mentioned earlier. You can use the trained model to predict link flows on a given network. Then, you can use the predicted link flows to find good solutions for the NDP (Network Design Problem) using a Genetic Algorithm (GA) or any other metaheuristic. The goal is to find the optimal network design (e.g., link capacities) that minimizes the total travel cost on the network. You can compare your solutions with the benchmark results to see how well you have done. Good luck!\n",
    "\n",
    "Disclaimer: The NDP is a complex problem and may require additional knowledge and expertise to solve effectively. The lecture on Friday should help a lot but in the meantime, feel free to reach out for any questions or guidance."
   ]
  },
  {
   "cell_type": "markdown",
   "id": "a73502e2d1d664d",
   "metadata": {},
   "source": [
    "## Exercise 3: Better ways of training and using GNNs for the NDP\n",
    "\n",
    "In this exercise, you can explore better ways of training and using GNNs for the NDP. Some ideas to consider:\n",
    "- Using different augmented features and graph representations.\n",
    "- Using reinforcement learning (RL).\n",
    "- Using GNNs for a different part of the NDP (here, we used them as surrogates for the traffic assignment model)."
   ]
  }
 ],
 "metadata": {
  "kernelspec": {
   "display_name": "Python 3 (ipykernel)",
   "language": "python",
   "name": "python3"
  },
  "language_info": {
   "codemirror_mode": {
    "name": "ipython",
    "version": 3
   },
   "file_extension": ".py",
   "mimetype": "text/x-python",
   "name": "python",
   "nbconvert_exporter": "python",
   "pygments_lexer": "ipython3",
   "version": "3.11.5"
  }
 },
 "nbformat": 4,
 "nbformat_minor": 5
}
